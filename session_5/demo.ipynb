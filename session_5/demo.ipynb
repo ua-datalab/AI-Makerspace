{
 "cells": [
  {
   "metadata": {},
   "cell_type": "markdown",
   "source": "# WILMA Chains demo",
   "id": "d6ce65bf39cc2004"
  },
  {
   "metadata": {},
   "cell_type": "markdown",
   "source": "## Step 0 - Install the package",
   "id": "c21af45d317ba214"
  },
  {
   "metadata": {
    "ExecuteTime": {
     "end_time": "2024-07-31T01:28:05.864596Z",
     "start_time": "2024-07-31T01:28:05.860056Z"
    }
   },
   "cell_type": "code",
   "source": "# %pip install chatur-chains",
   "id": "c0c067cc60486232",
   "outputs": [],
   "execution_count": 1
  },
  {
   "metadata": {},
   "cell_type": "markdown",
   "source": "## Step 1 - Set up the environment variables",
   "id": "764cff2b916d895a"
  },
  {
   "cell_type": "code",
   "id": "initial_id",
   "metadata": {
    "collapsed": true,
    "ExecuteTime": {
     "end_time": "2024-07-31T01:28:05.869113Z",
     "start_time": "2024-07-31T01:28:05.865773Z"
    }
   },
   "source": [
    "import os\n",
    "from pathlib import Path\n",
    "\n",
    "# Select the RESEARCHPAPER vector database from the parent directory\n",
    "vdb_dir = Path() / \"..\" / \"testing\" / \"data\" / \"RESEARCHPAPER\"\n",
    "\n",
    "# Import the API keys form the environment\n",
    "llm_url = os.environ.get('LLM_URL')\n",
    "api_key = os.environ.get('LLM_API_KEY')\n",
    "openai_api_key = os.environ.get('OPENAI_API_KEY')\n"
   ],
   "outputs": [],
   "execution_count": 2
  },
  {
   "metadata": {},
   "cell_type": "markdown",
   "source": "## Step 2 - Build an LLM proxy",
   "id": "b180e29096fce451"
  },
  {
   "metadata": {
    "ExecuteTime": {
     "end_time": "2024-07-31T01:28:07.852877Z",
     "start_time": "2024-07-31T01:28:05.869801Z"
    }
   },
   "cell_type": "code",
   "source": [
    "from chains.llm_proxy import build_llm_proxy\n",
    "\n",
    "llm = build_llm_proxy(\n",
    "    model=\"Mistral-7B-Instruct-v0.2\",\n",
    "    url=llm_url,\n",
    "    engine=\"OpenAI\",\n",
    "    temperature=0.9,\n",
    "    api_key=api_key,\n",
    ")"
   ],
   "id": "cb18a0c755604bbf",
   "outputs": [],
   "execution_count": 3
  },
  {
   "metadata": {
    "ExecuteTime": {
     "end_time": "2024-07-31T01:28:08.934821Z",
     "start_time": "2024-07-31T01:28:07.853490Z"
    }
   },
   "cell_type": "code",
   "source": [
    "message = llm.invoke(\"Compose a haiku about the beauty of Tucson\")\n",
    "print(message.content)"
   ],
   "id": "387d71eb2ee3768d",
   "outputs": [
    {
     "name": "stdout",
     "output_type": "stream",
     "text": [
      " Saguaro's reach skyward,\n",
      "\n",
      "Desert bloom, Cactus castle shines,\n",
      "Tucson's beauty ignites.\n"
     ]
    }
   ],
   "execution_count": 4
  },
  {
   "metadata": {
    "ExecuteTime": {
     "end_time": "2024-07-31T01:28:19.762053Z",
     "start_time": "2024-07-31T01:28:08.937416Z"
    }
   },
   "cell_type": "code",
   "source": [
    "# Print the complete resulting data structure\n",
    "from pprint import pprint\n",
    "pprint(llm.invoke(\"Compose a rap about the constitution of the USA\"))"
   ],
   "id": "88fcfc4cdd3ad9bd",
   "outputs": [
    {
     "name": "stdout",
     "output_type": "stream",
     "text": [
      "AIMessage(content=\" (Verse 1)\\nYo, gather 'round, it's time to drop some knowledge,\\nAbout the foundation that keeps our freedom unfoldable,\\nThe United States Constitution, a legal masterpiece,\\nCreated by the people, for the people, to reach peace\\n\\nBorn in 1787, in Philadelphia's hall,\\nOpened up the debate, no time to stall,\\nFifty-five delegates, from thirteen colonies strong,\\nCame together, to give form to a new, long-lasting song\\n\\n(Chorus)\\nWe the people, we the power,\\nCreating laws, that will endower,\\nThe land of the free, the home of the brave,\\nWith checks and balances, on which we'll pave\\n\\n(Verse 2)\\nFirst, the Articles of Confederation, gave us a try,\\nBut the union was weak, about to dry,\\nSo they called for a convention, to draft a new design,\\nTo strengthen the nation, and redefine\\n\\nThe three branches of government, keeping power in line,\\nThe legislative, executive, and the judicial, fine\\nA checks-and-balances system, preventing a monopoly,\\nEnsuring fairness, for everybody\\n\\n(Bridge)\\nBill of Rights, the first ten amendments, protecting our rights,\\nSetting the foundation, for our legal lights,\\nFreedom of speech, press, religion, assembly,\\nThe right to bear arms, for your security and assembly\\n\\n(Chorus)\\nWe the people, we the power,\\nCreating laws, that will endower,\\nThe land of the free, the home of the brave,\\nWith checks and balances, on which we'll pave\\n\\n(Verse 3)\\nPresidents, lawyers, and citizens, all equal,\\nNo one's above the law, no matter royal or elevated,\\nElection cycles, every four, to let your voice be heard,\\nIn this grand experiment, that to freedom has been preferred\\n\\nThrough wars, challenges, and growth,\\nThe Constitution stands, our nation's bedrock,\\nEmpowering us, with unity and might,\\nA beacon of hope, taking us to new heights\\n\\n(Outro)\\nSo, gather 'round, my friends, let's pay our respects,\\nTo this incredible document, that's maintained our respected checks,\\nWith its words etched in time, our commitment persists,\\nThe United States Constitution, a gift to mankind, and a legacy that will resist.\\n\\n(Chorus)\\nWe the people, we the power,\\nCreating laws, that will endower,\\nThe land of the free, the home of the brave,\\nWith checks and balances, on which we'll pave.\", response_metadata={'token_usage': {'completion_tokens': 624, 'prompt_tokens': 19, 'total_tokens': 643}, 'model_name': 'Mistral-7B-Instruct-v0.2', 'system_fingerprint': None, 'finish_reason': 'stop', 'logprobs': None}, id='run-684d157d-4e03-4841-a087-1d89443a80ed-0')\n"
     ]
    }
   ],
   "execution_count": 5
  },
  {
   "metadata": {},
   "cell_type": "markdown",
   "source": "## Step 3-1: Custom application - PDF denoising",
   "id": "60290fcb0d80b841"
  },
  {
   "metadata": {
    "ExecuteTime": {
     "end_time": "2024-07-31T01:28:26.705721Z",
     "start_time": "2024-07-31T01:28:19.765039Z"
    }
   },
   "cell_type": "code",
   "source": [
    "from chains.pdf_fixer import build_fix_pdf_chain\n",
    "\n",
    "fixer = build_fix_pdf_chain(\n",
    "    model_name=\"Mistral-7B-Instruct-v0.2\",\n",
    "    llm_host=llm_url,\n",
    "    llm_engine=\"OpenAI\",\n",
    "    api_key=api_key,\n",
    ")\n",
    "\n",
    "nosy_text = \"\"\"1.Framestate-of-the-artAImethodologiesinyourareaofexpertiseIntheareaoflargelanguagemodel,themostpopularAImethodologiesinclude,butnotlimitto:a.\n",
    "RecurrentNeuralNetworkMotivation:preservecontextProblem:sequentialprocessingofinformationisslow,weneedparalleltrainingb.\n",
    "TransformerKeyingredientistheattentionblockHighlyparallelizableProblem:finitewindow;quadraticscalingc.\n",
    "StateSpaceModelLinearscalingMambablockwithselectivestatespacesisprovedtobeasperformantastransformersundercertainconditions2.IdentifykeybarriersinachievinggreaterimpactofAILackofhighqualitytrainingdataExtremerequirementformemoryandcomputingpowerfortrainingHighcostforinferenceLackofexplainability3.OutlinekeyenablerstoachievinggreaterimpactofAI.HighqualitymodelsthatachieveshighperformancewithlowcostTrainingtechniquesthatenableshighefficiencytrainingAccesstohighqualitydatabasefortrainingAccesstohighperformancecomputingresourcesBio:SikanLiisaresearchassociateattheTexasAdvancedComputingCenter(TACC)’sScalableComputationalIntelligence(SCI)group.\n",
    "Herworkfocusesondevelopingmachinelearninganddataminingtechniquestoanalyzelarge-scale,complexdatasets.\n",
    "She’spublishedseveralpapersinthisfieldandactivelycontributestoresearch,development,andsupportinitiativesinvolvingbigdata,statisticalanalysis,andmachinelearningatTACC.SikanLi\"\"\"\n",
    "\n",
    "print(fixer.invoke(nosy_text))"
   ],
   "id": "5a174cb81053c8f4",
   "outputs": [
    {
     "name": "stdout",
     "output_type": "stream",
     "text": [
      " 1. Frame state-of-the-art AI methodologies in your area of expertise in the field of large language models, the most popular AI methodologies include, but are not limited to:\n",
      "   a. Recurrent Neural Network\n",
      "      Motivation: preserve context\n",
      "      Problem: sequential processing of information is slow. We need parallel training.\n",
      "   b. Transformer\n",
      "      Key ingredient is the attention block.\n",
      "      Highly parallelizable.\n",
      "      Problem: finite window; quadratic scaling.\n",
      "   c. State Space Model (Mamba block with selective state spaces)\n",
      "      Is proven to be as performant as transformers under certain conditions.\n",
      "\n",
      "  Identify key barriers in achieving greater impact of AI:\n",
      "  1. Lack of high-quality training data\n",
      "  2. Extreme requirement for memory and computing power for training\n",
      "  3. High cost for inference\n",
      "  4. Lack of explainability\n",
      "\n",
      "  Outline key enablers to achieving greater impact of AI:\n",
      "  1. High-quality models that achieve high performance with low cost\n",
      "  2. Training techniques that enable high efficiency training\n",
      "  3. Access to high-quality databases for training\n",
      "  4. Access to high-performance computing resources\n",
      "\n",
      "  Bio: Sikan Li is a research associate at the Texas Advanced Computing Center (TACC)’s Scalable Computational Intelligence (SCI) group.\n",
      "\n",
      "  Her work focuses on developing machine learning and data mining techniques to analyze large-scale, complex datasets.\n",
      "\n",
      "  She has published several papers in this field and actively contributes to research, development, and support initiatives involving big data, statistical analysis, and machine learning at TACC.\n",
      "\n",
      "  Sikan Li.\n"
     ]
    }
   ],
   "execution_count": 6
  },
  {
   "metadata": {},
   "cell_type": "markdown",
   "source": "## Step 4: Dense Passage Retriever",
   "id": "768dab46eedc646f"
  },
  {
   "metadata": {
    "ExecuteTime": {
     "end_time": "2024-07-31T01:28:36.608689Z",
     "start_time": "2024-07-31T01:28:26.707800Z"
    }
   },
   "cell_type": "code",
   "source": [
    "from chains.retrieval import build_retriever\n",
    "\n",
    "retriever = build_retriever(\n",
    "    vector_store= str(vdb_dir), # Can also be a weviate database\n",
    "    top_k=10,\n",
    "    embeddings_engine=\"HuggingFace\" # Can also be OpenAI, or GPT4ALL \n",
    ")\n",
    "\n",
    "docs = retriever.invoke(\"pine trees non native to Arizona\")\n",
    "\n",
    "for ix, doc in enumerate(docs, start=1):\n",
    "    print(f\"{ix}. \", doc)\n",
    "    print()"
   ],
   "id": "fc6c58a38176c3ab",
   "outputs": [
    {
     "name": "stdout",
     "output_type": "stream",
     "text": [
      "1.  page_content='29 The University of Arizona Cooperative ExtensionSection 2. Non-native pine trees suited to Arizona climate 1. Pinus canariensis:\\nCanary Island pine\\n2. Pinus eldarica:\\nAfghan pine\\n3. Pinus halepensis:  Aleppo pine\\n4. Pinus nigra:  Austrian black pine\\n5. Pinus mugo mugo:  Mugo pine\\n6. Pinus pinea:  Italian stone pine\\n7. Pinus thunbergii:  Japanese black pine\\n8. Pinus roxburghii:  Chir pine' metadata={'page': 28, 'source': 'az1584.pdf'}\n",
      "\n",
      "2.  page_content='9 The University of Arizona Cooperative ExtensionSection 1. Pine trees native to Arizona 1. Pinus aristata:  Rocky Mountain bristlecone pine\\n2. Pinus cembroides:  Mexican pinyon pine\\n3. Pinus edulis:  Pinyon pine\\n4. Pinus engelmannii:  Apache pine\\n5. Pinus flexilis:  Limber pine\\n6. Pinus leiophylla var.\\nchihuahuana:  Chihuahua pine\\n7. Pinus monophylla:  One-needled pinyon pine\\n8. Pinus ponderosa var.\\nscopulorum : Ponderosa pine\\nAlso Pinus ponderosa var.\\narizonica : Arizona pine 9. Pinus strobiformis:  Southwestern white pine\\nAlso Pinus flexilis  var.\\nreflexa : Mexican white pine' metadata={'page': 8, 'source': 'az1584.pdf'}\n",
      "\n",
      "3.  page_content='(19º to 13º F).\\nZone details are available at: http://www.sunset.com/garden/ climate-zones/ Landscape Use  There are about 115 species of pine.\\nAt least twenty of these  are well-adapted to Arizona’s different climates, although  irrigation is often necessary in landscape situations.\\nLandscape  architects, contractors and homeowners rely on pines heavily  for ornamental uses.\\nGolf courses, parks, malls, industrial and  residential sites use pine cultivars for large and sometimes small  landscape plantings.\\nMost pine species grow into large trees,  so attention to size at maturity and planning sufficient area in  which to grow is critical.\\nPines offer a variety of forms, needle  structures, color, from blue to dark green, and texture, from fine  to coarse.\\nPines can be used for windbreaks, accent trees or even  foundation plantings.\\nPlanting and caring for evergreens requires a considerable  investment of time and money, and so it is important to make  the right decisions when choosing these plants for your yard.\\nTo choose a species wisely, you need to know two basic pieces  of information.\\nFirst, you need to know the ultimate size of the  space that you want filled by the evergreen, and second you  need to be sure that the species or variety you are considering  can grow vigorously in the climate and site conditions of your  property.\\nThis publication is designed to provide guidelines to  help you select the most appropriate pine trees for your yard.\\nPines of Arizona' metadata={'page': 4, 'source': 'az1584.pdf'}\n",
      "\n",
      "4.  page_content='5 The University of Arizona Cooperative ExtensionThe pine ( Pinus  species) is an important group of trees within  the “conifers” designation.\\nThere are many different species,  each having its own physical characteristics and cultural  requirements.\\nIdentifying features of different species include  cone size and shape, and the number of long, slender needles  in each bundle.\\nVarious pine species are very well suited to  environments from the low deserts to the mountains.\\nThey are  tolerant of many types of soils and temperature ranges, and are  relatively pest free.\\nA pine tree is a classic form for many home landscapes.\\nThe  benefit of a pine is obvious: it is a beautiful evergreen tree that  is typically low maintenance and a low water user.\\nIt provides  shade all year round.\\nThe aromatic foliage has a pleasant  fragrance.\\nBirds and other wildlife will use the pine tree for  food, shade and shelter, offering great opportunities for viewing.\\nFortunately in Arizona, we have many native and non-native  pines to choose from when selecting a tree for our yard or  landscape.\\nMany are fast growing.\\nMany are tall and statuesque.\\nSome are dwarf or smaller in stature to accommodate a smaller  growing space.\\nThey can break up traffic noise as well, or be  used as a screen for privacy.\\nBotanical Discussion Pine trees are vascular seed-bearing plants.\\nThey are multi- cotyledonous (germinating with between four and twenty  “seed” leaves) and monoecious, meaning they have both male  (pollen) and female (seed) cones, rather than flowers.\\nThe seeds  and pollen are usually wind dispersed.\\nThey are part of the Sub  Kingdom Gymnospermae (naked-seeded) and formerly part  of the Division Coniferae (cone-bearing).' metadata={'page': 4, 'source': 'az1584.pdf'}\n",
      "\n",
      "5.  page_content=\"24 The University of Arizona Cooperative ExtensionDescription:  Ponderosa pine is native throughout western  North America.\\nIt can grow to be a very large tree, exhibiting  a straight trunk and evenly distributed branches.\\nIts form is  columnar to rounded oval crown.\\nIt is bushy and attractive  at all ages.\\nYoung trees have dark, almost black bark, which  changes to yellowish orange, plated bark in maturity.\\nThe  cone is 3–6 inches long, reddish brown, and cone scale  tips are prickly sharp.\\nSee Figure 8.\\nThe Arizona pine is  closely related to the Ponderosa pine and has 4-5 needles  per fascicle.\\nIt is native to southeastern Arizona and parts  of New Mexico, and Mexico.\\nSize at maturity:\\nUp to 120 feet tall with 30 foot crown  spread.\\nLandscape Use:  Ponderosa pine is the classic large, formal  accent tree for yards and parks above 5,000 feet.\\nAllow for  30' x 30' planting areas to ensure the long life of this grand  tree.\\nOn lots where Ponderosa pine is native and present, thin  out smaller trees to the above specification for best results.\\nNeedles:  Three per fascicle, 3–7 inches long (and sometimes  longer), glossy yellow green to dark green.\\nThe Arizona pine  differs in that it has five needles per fascicle, and the cone  is typically shorter as well.\\nClimate:  Best in Zones 2A and 2B (-30–10F), also 1A and  3A, and cooler sites in Zone 10 with good care; hardy, heat  and drought tolerant.\\nBest at elevations between 5,000 to  8,000 feet.\\nLight Exposure:  Full sun.\" metadata={'page': 23, 'source': 'az1584.pdf'}\n",
      "\n",
      "6.  page_content='16 The University of Arizona Cooperative ExtensionDescription:  Apache pine is native in Southeastern  Arizona, and adjacent areas in New Mexico, and Mexico,  and grows best in sandy soils.\\nCones are oval shaped and  colored ocher red, about 5 to 7 inches long, and cone scales  are tipped with small prickles.\\nCones grow in pairs or whorls  of three to five.\\nBark changes from dark brown as a younger  tree, to yellow and fissured when mature.\\nSee Figure 4.\\nSize at maturity:\\n50–60 feet and 20–25 ft. wide.\\nLandscape Use:  This long needled pine resembles the  southern longleaf pine.\\nIt is a well-formed pine and similar  to the Ponderosa pine.\\nIt is a moderately fast growing species  and prefers well drained sandy soils.\\nNeedles:  Three per fascicle, clear, glistening green, 8–15  inches long, usually 10 inches.\\nClimate:  Best in Zones 2A and 2B (- 20 F); also 3A and cooler  sites in Zone 10 with good care.\\nLight Exposure:  Full sun.\\nWater Use:  Moderate when young, none at maturity.\\nDuring extended drought periods, water deeply.\\nGrowth Rate:  Moderate.\\nCultural Requirements:  Apache pine does best in sandy  soils with good drainage.\\nMaintenance is low.\\nProblems:  Dwarf mistletoe can be a problem where present  and difficult to treat.\\nYounger trees are susceptible to shoot  moths.\\nBark beetles can be a problem, but well-watered  healthy trees are fairly resistant to attack.\\nMay not be readily  available at nurseries.\\nCommon Name:  Apache pine Scientific Name:  Pinus engelmanii' metadata={'page': 15, 'source': 'az1584.pdf'}\n",
      "\n",
      "7.  page_content='Life in the Watershed\\n7  Figure 5.\\nSonoran Desertscrub.\\nPhoto courtesy  of the National Park Service.\\nFigure 4.\\nPonderosa pine forest.\\nPhoto  Courtesy of the National Park Service.\\nPinyon-Juniper woodlands  cover large areas  below ponderosa pine forest in central and  northern Arizona.\\nThey are between 5,500 and 7,000 feet with 12 to 20 inches annual  precipitation.\\nAt lower elevations there are  usually more junipers than pinyon pine.\\nAt higher elevations the pinyons reach their  greatest size and sometimes grow in large  pure stands.\\nThe Pine forests  are often dominated by  ponderosa pine.\\nIn fact, Arizona has the largest continuous stand of ponderosa pine in  the United States.\\nMature trees may be 200 to  400 years old and can grow to 125 feet tall.\\nElevation of this forest is between 6,000 and  9,000 feet, varying according to northern or  southern facing slope (aspect).\\nPrecipitation is  approximately 18 to 26 inches annually.\\nThe Spruce-Fir forests  receive the most  precipitation in Arizona.\\nThey receive from 25  to 35 inches of annual precipitation (much of it as snow).\\nVery little sunlight reaches the  ground because trees grow close together.\\nThe closeness of the trees helps them brace against strong winds.\\nThe major trees found  between elevations of 7,500 to 9,500 feet are  Douglas fir and white fir.\\nSpruce and alpine fir trees are found at elevations of 8,500 to  11,500 feet.\\nThe only true Alpine Tundra  in Arizona is  isolated on the top of the San Francisco  Mountains about 10 miles north of Flagstaff.' metadata={'page': 6, 'source': 'az1378e.pdf'}\n",
      "\n",
      "8.  page_content='edu/files/pubs/az1003.pdf Construction and Tree Protection http://www.ces.ncsu.edu/forestry/pdf/ag/ag685.pdfPines of Arizona\\n http://extension.arizona.edu/sites/extension.arizona.\\nedu/files/pubs/az1584.pdf For further assistance with this insect, contact\\n Peter Warren, Urban Horticulture Agent, Pima County  Extension in Tucson (520) 626-5161, plwarren@cals.arizona.\\nedu; Chris Erickson, Forest Program Specialist, Arizona State  Forestry Division, (602) 771-1407, ChrisErickson@azsf.gov;  Mayra Moreno, (520) 628-5480, MayraMoreno@azsf.gov; or  Bob Celaya, Forest Health Specialist, Arizona State Forestry  Division, (602) 771-1415, BobCelaya@azsf.gov.\\nAlternative Tree Species to Consider  When Replacing Pines Plants that are well suited to site conditions will thrive  with little maintenance and provide a greater return on your  landscape investment.\\nTree size should be proportionate to  the site to ensure adequate irrigation is applied.\\nThe lists  provided here present trees, organized by size, and selected  for both their low water use and cold hardiness to at least  the mid-teens (F).' metadata={'page': 3, 'source': 'az1689-2015.pdf'}\n",
      "\n",
      "9.  page_content='varying stand structural types in a northern Arizona  ponderosa pine forest.\\nM.S. Thesis, Northern Arizona  University, Flagstaff, AZ.\\n98 pages.\\nSieg, C.H., B. Phillips, and L. Moser.\\n2003.\\nExotic Invasive  Plants.\\nPages 251-267 in Friederici, P., ed.\\nRestoration  Handbook for Southwestern Ponderosa Pine Forests.' metadata={'page': 3, 'source': 'az1436-2015.pdf'}\n",
      "\n",
      "10.  page_content='Each year of vegetation growth results in an accumulation  of more burnable fuel materials on the ground.\\nThis  is especially so in the arid southwest, which has low  decomposition rates of organic materials because of the low  moisture availability in the soil.\\nThus, the fires we see today  in some forest landscapes are of a much higher intensity  than those at the turn of the 20th century due to decades  of fire suppression, an increase in biomass due to the post- 1976 increase in Southwestern precipitation (Swetnam and  Betancourt 1998) and warming temperatures coupled with  recent drought conditions.\\nIn many cases, high-intensity fires result in complete stand  replacement in areas burned (Figure 2).\\n“Stand replacement”  refers to the high percentage of tree mortality in areas  impacted by high-intensity fire.\\nFor Southwest ponderosa  pine communities, large crown fires are more prevalent now  than in the past based on historical records and long-term  tree-ring records (Swetnam 1990, Swetnam and Betancourt  1998, Westerling et al. 2006).\\nChanges in Arizona’s Forests Ponderosa pine forests across Arizona looked differently  prior to 1850 than they do today (Figure 3).\\nTypical  characteristics of these pine stands were:  1) An open, park-like structure  2) Clumped, large diameter pine trees of various ages  3) A productive and diverse understory of grasses and forbs  4) A low abundance of underbrush and small diameter trees\\n5) An infrequent establishment of new treesAZ1425 Figure' metadata={'page': 0, 'source': 'az1425.pdf'}\n",
      "\n"
     ]
    }
   ],
   "execution_count": 7
  },
  {
   "metadata": {},
   "cell_type": "markdown",
   "source": "## Step 5-1: RAG using CyVerse LLM",
   "id": "5294d8998912e9a1"
  },
  {
   "metadata": {
    "ExecuteTime": {
     "end_time": "2024-07-31T01:29:51.820430Z",
     "start_time": "2024-07-31T01:29:33.845618Z"
    }
   },
   "cell_type": "code",
   "source": [
    "from chains.rag import build_rag_chain\n",
    "\n",
    "cyverse_rag = build_rag_chain(llm_host=llm_url,\n",
    "                        model_name=\"Mistral-7B-Instruct-v0.2\",\n",
    "                        llm_engine=\"openai\",\n",
    "                        api_key=api_key,\n",
    "                        org_id=None,\n",
    "                        vector_store=str(vdb_dir),\n",
    "                        embeddings_engine=\"HuggingFace\",\n",
    "                        embeddings_model=None)"
   ],
   "id": "6d5195fb31bceba2",
   "outputs": [
    {
     "name": "stderr",
     "output_type": "stream",
     "text": [
      "/Users/enoriega/miniconda3/envs/chatur-chains-dev/lib/python3.10/site-packages/langchain_core/language_models/chat_models.py:115: DeprecationWarning: callback_manager is deprecated. Please use callbacks instead.\n",
      "  warnings.warn(\n"
     ]
    }
   ],
   "execution_count": 10
  },
  {
   "metadata": {
    "ExecuteTime": {
     "end_time": "2024-07-31T01:31:12.299004Z",
     "start_time": "2024-07-31T01:31:03.991150Z"
    }
   },
   "cell_type": "code",
   "source": [
    "question = \"How can you treat wood rot on lemon trees?\"\n",
    "print(cyverse_rag.invoke({\"input\":question, \"chat_history\":[]}))"
   ],
   "id": "c231c23456bdf8d6",
   "outputs": [
    {
     "name": "stdout",
     "output_type": "stream",
     "text": [
      " To treat wood rot on lemon trees, you should prune infected limbs only when the trees are dormant, cutting back to at least one foot below the canker (```Since sunburned bark is the primary infection site, large limbs should be pruned only when trees are dormant. When removing infected limbs, cut back to at least one foot below the canker.```). The cut area and pruning tools should be treated with a solution of one part household bleach and nine parts water, and the pruning wounds should be painted with a copper fungicide to prevent infection (```The cut area and pruning tools should be treated with a solution of one part household bleach and nine parts water. Pruning wounds should be painted with a copper fungicide to prevent infection. Reapply the copper compound to the wound each spring to ensure adequate protection against infection.```). Maintaining tree vigor through proper fertilization and deep watering on a regular schedule is also important for wound healing and minimizing development of wood rot (```Tree vigor should be maintained through proper fertilization and deep watering on a regular schedule.```). No fungicides currently available for use on citrus will control this disease (```No fungicides currently available for use on citrus will control this disease.```). If the wood rot decay is caused by Antrodia, removal of wood debris will eliminate this potential source of spores and minimize the threat of new infections (```If the wood rot decay is caused by Antrodia, removal of wood debris will eliminate this potential source of spores and minimize the threat of new infections.```).\n"
     ]
    }
   ],
   "execution_count": 13
  },
  {
   "metadata": {},
   "cell_type": "markdown",
   "source": "## Step 5-2: RAG using OpenAI",
   "id": "68d4df4708093824"
  },
  {
   "metadata": {
    "ExecuteTime": {
     "end_time": "2024-07-31T01:31:40.061910Z",
     "start_time": "2024-07-31T01:31:38.027835Z"
    }
   },
   "cell_type": "code",
   "source": [
    "openai_rag = build_rag_chain(llm_host=\"https://api.openai.com/v1/\",\n",
    "                            model_name=\"gpt-4o\",\n",
    "                            llm_engine=\"openai\",\n",
    "                            api_key=openai_api_key,\n",
    "                            org_id=None,\n",
    "                            vector_store=str(vdb_dir),\n",
    "                            embeddings_engine=\"GPT4All\",\n",
    "                            embeddings_model=None)"
   ],
   "id": "bf4fb60196adcdf2",
   "outputs": [
    {
     "name": "stderr",
     "output_type": "stream",
     "text": [
      "/Users/enoriega/miniconda3/envs/chatur-chains-dev/lib/python3.10/site-packages/langchain_core/language_models/chat_models.py:115: DeprecationWarning: callback_manager is deprecated. Please use callbacks instead.\n",
      "  warnings.warn(\n"
     ]
    }
   ],
   "execution_count": 15
  },
  {
   "metadata": {
    "ExecuteTime": {
     "end_time": "2024-07-31T01:31:46.833951Z",
     "start_time": "2024-07-31T01:31:41.002046Z"
    }
   },
   "cell_type": "code",
   "source": "print(openai_rag.invoke({\"input\":question, \"chat_history\":[]}))",
   "id": "23fed1f52fc32f2a",
   "outputs": [
    {
     "name": "stdout",
     "output_type": "stream",
     "text": [
      "### Treating Wood Rot on Lemon Trees\n",
      "\n",
      "To treat wood rot on lemon trees, follow these steps:\n",
      "\n",
      "1. **Pruning Infected Limbs**: \n",
      "   - \"Broken or dying branches should be removed with a flush, clean cut close to the main branch to minimize development of wood rot at wound sites.\"\n",
      "   - \"When removing infected limbs, cut back to at least one foot below the canker.\"\n",
      "\n",
      "2. **Disinfecting Tools and Wounds**:\n",
      "   - \"The cut area and pruning tools should be treated with a solution of one part household bleach and nine parts water.\"\n",
      "   - \"Pruning wounds should be painted with a copper fungicide to prevent infection.\"\n",
      "\n",
      "3. **Preventing Further Infection**:\n",
      "   - \"Reapply the copper compound to the wound each spring to ensure adequate protection against infection.\"\n",
      "   - \"Whitewash, applied to exposed lower trunk areas, will reduce the possibilities of infection. This material reflects radiation and reduces bark temperature.\"\n",
      "\n",
      "4. **Maintaining Tree Vigor**:\n",
      "   - \"Tree vigor should be maintained through proper fertilization and deep watering on a regular schedule.\"\n",
      "\n",
      "5. **Removing Wood Debris**:\n",
      "   - \"If the wood rot decay is caused by Antrodia, removal of wood debris will eliminate this potential source of spores and minimize the threat of new infections.\"\n",
      "\n",
      "6. **No Effective Fungicides**:\n",
      "   - \"No fungicides currently available for use on citrus will control this disease.\"\n",
      "\n",
      "By following these steps, you can help manage and treat wood rot in lemon trees effectively.\n"
     ]
    }
   ],
   "execution_count": 16
  },
  {
   "metadata": {},
   "cell_type": "markdown",
   "source": "## Step 6: DIY chain - _Unit Testing LLMs_",
   "id": "6b79541cfc28f60d"
  },
  {
   "metadata": {
    "ExecuteTime": {
     "end_time": "2024-07-31T01:33:04.157977Z",
     "start_time": "2024-07-31T01:33:04.153636Z"
    }
   },
   "cell_type": "code",
   "source": [
    "from langchain_core.output_parsers import JsonOutputParser\n",
    "from langchain_core.prompts import ChatPromptTemplate, HumanMessagePromptTemplate\n",
    "\n",
    "\n",
    "def build_rag_tester(llm_proxy):\n",
    "    \"\"\" Use to test for correctness using an LLM itself \"\"\"\n",
    "    prompt = ChatPromptTemplate.from_messages([\n",
    "        HumanMessagePromptTemplate.from_template(\n",
    "            \"\"\"You are a testing the generation capabilities of a large language model. You will get a passage \n",
    "            generated by an LLM and the reference provided by a human. Your job is to decide whether the llm's \n",
    "            passage is paraphrasing the reference. Consider the following criteria to determine that the llm's \n",
    "            answer is correct: - None of the information asked for in the question is missing in the answer - All the \n",
    "            key concepts mentioned in the reference are contained in the answer - None of the elements in the \n",
    "            reference are missing in the answer - The answer totally agrees with the reference The output is json \n",
    "            object that states if the llm answered correctly and if and only if it didn't, also include an \n",
    "            explanation of why it didn't. Use the following structure:\n",
    "                \n",
    "                ```{{\n",
    "                    \"correct\": false,\n",
    "                    \"explanation\": \"The response is partially correct but is missing information from the reference\"\n",
    "                }}```\n",
    "                \n",
    "            \n",
    "            Reference: ```{reference}```\n",
    "            \n",
    "            LLM answer: ```{answer}```\n",
    "            \"\"\"\n",
    "        )\n",
    "    ])\n",
    "\n",
    "    parser = JsonOutputParser()\n",
    "\n",
    "    chain = prompt | llm_proxy | parser\n",
    "\n",
    "    return chain\n",
    "\n",
    "rag_tester = build_rag_tester(llm)"
   ],
   "id": "d51792d9572ae944",
   "outputs": [],
   "execution_count": 19
  },
  {
   "metadata": {
    "ExecuteTime": {
     "end_time": "2024-07-31T01:33:11.760634Z",
     "start_time": "2024-07-31T01:33:06.092194Z"
    }
   },
   "cell_type": "code",
   "source": [
    "rag_response = cyverse_rag.invoke({\"input\": \"How do you know if bark is slipping?\", \"chat_history\": []})\n",
    "print(rag_response)\n",
    "print()\n",
    "\n",
    "pprint(rag_tester.invoke({\n",
    "    \"reference\": \"[For a citrus tree] it is a good idea to test the tree to see if the bark slips. Simply \"\n",
    "                         \"score the bark with a knife, and see if it peels away easily.\",\n",
    "    \"answer\": rag_response\n",
    "}))"
   ],
   "id": "45558aa0677ee564",
   "outputs": [
    {
     "name": "stdout",
     "output_type": "stream",
     "text": [
      " To determine if bark is slipping, you can test the tree by scoring the bark with a knife and observing if it peels away easily. According to the context passage, \"Before budding, it is a good idea to test the tree to see if the bark slips. Simply score the bark with a knife, and see if it peels away easily. Bark slipping occurs in the spring and resumes in the fall in Arizona.\" (emphasis added) Therefore, if the bark peels away easily after scoring it with a knife, it is considered to be slipping.\n",
      "\n",
      "{'correct': True,\n",
      " 'explanation': \"The LLM's passage paraphrases the reference by providing \"\n",
      "                'additional context and clarification without missing any key '\n",
      "                'concepts or information from the reference.'}\n"
     ]
    }
   ],
   "execution_count": 20
  },
  {
   "metadata": {},
   "cell_type": "code",
   "source": "",
   "id": "5014dde1f09d4fde",
   "outputs": [],
   "execution_count": null
  }
 ],
 "metadata": {
  "kernelspec": {
   "display_name": "Python 3",
   "language": "python",
   "name": "python3"
  },
  "language_info": {
   "codemirror_mode": {
    "name": "ipython",
    "version": 2
   },
   "file_extension": ".py",
   "mimetype": "text/x-python",
   "name": "python",
   "nbconvert_exporter": "python",
   "pygments_lexer": "ipython2",
   "version": "2.7.6"
  }
 },
 "nbformat": 4,
 "nbformat_minor": 5
}
