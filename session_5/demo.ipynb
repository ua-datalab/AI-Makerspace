{
 "cells": [
  {
   "cell_type": "markdown",
   "id": "d6ce65bf39cc2004",
   "metadata": {},
   "source": [
    "# WILMA Chains demo"
   ]
  },
  {
   "cell_type": "markdown",
   "id": "c21af45d317ba214",
   "metadata": {},
   "source": [
    "## Step 0 - Install the package"
   ]
  },
  {
   "cell_type": "code",
   "execution_count": 1,
   "id": "c0c067cc60486232",
   "metadata": {
    "ExecuteTime": {
     "end_time": "2024-07-31T01:28:05.864596Z",
     "start_time": "2024-07-31T01:28:05.860056Z"
    }
   },
   "outputs": [],
   "source": [
    "# %pip install chatur-chains"
   ]
  },
  {
   "cell_type": "markdown",
   "id": "764cff2b916d895a",
   "metadata": {},
   "source": [
    "## Step 1 - Set up the environment variables"
   ]
  },
  {
   "cell_type": "code",
   "execution_count": 2,
   "id": "initial_id",
   "metadata": {
    "ExecuteTime": {
     "end_time": "2024-07-31T01:28:05.869113Z",
     "start_time": "2024-07-31T01:28:05.865773Z"
    },
    "collapsed": true
   },
   "outputs": [],
   "source": [
    "import os\n",
    "from pathlib import Path\n",
    "\n",
    "# Select the RESEARCHPAPER vector database from the parent directory\n",
    "vdb_dir = Path() / \"..\" / \"testing\" / \"data\" / \"RESEARCHPAPER\"\n",
    "\n",
    "# Import the API keys form the environment\n",
    "llm_url = os.environ.get('LLM_URL')\n",
    "api_key = os.environ.get('LLM_API_KEY')\n",
    "openai_api_key = os.environ.get('OPENAI_API_KEY')\n"
   ]
  },
  {
   "cell_type": "markdown",
   "id": "b180e29096fce451",
   "metadata": {},
   "source": [
    "## Step 2 - Build an LLM proxy"
   ]
  },
  {
   "cell_type": "code",
   "execution_count": 3,
   "id": "cb18a0c755604bbf",
   "metadata": {
    "ExecuteTime": {
     "end_time": "2024-07-31T01:28:07.852877Z",
     "start_time": "2024-07-31T01:28:05.869801Z"
    }
   },
   "outputs": [],
   "source": [
    "from chains.llm_proxy import build_llm_proxy\n",
    "\n",
    "llm = build_llm_proxy(\n",
    "    model=\"Mistral-7B-Instruct-v0.2\",\n",
    "    url=llm_url,\n",
    "    engine=\"OpenAI\",\n",
    "    temperature=0.9,\n",
    "    api_key=api_key,\n",
    ")"
   ]
  },
  {
   "cell_type": "code",
   "execution_count": 4,
   "id": "387d71eb2ee3768d",
   "metadata": {
    "ExecuteTime": {
     "end_time": "2024-07-31T01:28:08.934821Z",
     "start_time": "2024-07-31T01:28:07.853490Z"
    }
   },
   "outputs": [
    {
     "name": "stdout",
     "output_type": "stream",
     "text": [
      " Saguaro's reach skyward,\n",
      "\n",
      "Desert bloom, Cactus castle shines,\n",
      "Tucson's beauty ignites.\n"
     ]
    }
   ],
   "source": [
    "message = llm.invoke(\"Compose a haiku about the beauty of Tucson\")\n",
    "print(message.content)"
   ]
  }
 ],
 "metadata": {
  "kernelspec": {
   "display_name": "Python 3",
   "language": "python",
   "name": "python3"
  },
  "language_info": {
   "codemirror_mode": {
    "name": "ipython",
    "version": 2
   },
   "file_extension": ".py",
   "mimetype": "text/x-python",
   "name": "python",
   "nbconvert_exporter": "python",
   "pygments_lexer": "ipython2",
   "version": "2.7.6"
  }
 },
 "nbformat": 4,
 "nbformat_minor": 5
}
