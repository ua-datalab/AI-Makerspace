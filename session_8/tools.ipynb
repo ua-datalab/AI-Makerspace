{
  "nbformat": 4,
  "nbformat_minor": 0,
  "metadata": {
    "colab": {
      "provenance": [],
      "authorship_tag": "ABX9TyPTKS7Jpl6BwnL24ef0RGnS",
      "include_colab_link": true
    },
    "kernelspec": {
      "name": "python3",
      "display_name": "Python 3"
    },
    "language_info": {
      "name": "python"
    }
  },
  "cells": [
    {
      "cell_type": "markdown",
      "metadata": {
        "id": "view-in-github",
        "colab_type": "text"
      },
      "source": [
        "<a href=\"https://colab.research.google.com/github/ua-datalab/AI-Makerspace/blob/mithun_dev/session_8/tools.ipynb\" target=\"_parent\"><img src=\"https://colab.research.google.com/assets/colab-badge.svg\" alt=\"Open In Colab\"/></a>"
      ]
    },
    {
      "cell_type": "markdown",
      "source": [
        "Nov 22nd 2024 last class AI Makerspace\n",
        "\n",
        "Wrap up/Parting gifts/tools\n"
      ],
      "metadata": {
        "id": "wbyIj6W1qnum"
      }
    },
    {
      "cell_type": "code",
      "execution_count": null,
      "metadata": {
        "id": "nVF_ovcBqnH-"
      },
      "outputs": [],
      "source": []
    }
  ]
}